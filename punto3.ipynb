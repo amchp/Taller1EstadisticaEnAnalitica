{
 "cells": [
  {
   "cell_type": "code",
   "execution_count": 1,
   "metadata": {},
   "outputs": [
    {
     "name": "stdout",
     "output_type": "stream",
     "text": [
      "Requirement already satisfied: pandas in /Library/Frameworks/Python.framework/Versions/3.10/lib/python3.10/site-packages (2.1.3)\n",
      "Requirement already satisfied: numpy<2,>=1.22.4 in /Library/Frameworks/Python.framework/Versions/3.10/lib/python3.10/site-packages (from pandas) (1.26.0)\n",
      "Requirement already satisfied: python-dateutil>=2.8.2 in /Users/alejandromcewenwork/Library/Python/3.10/lib/python/site-packages (from pandas) (2.9.0.post0)\n",
      "Requirement already satisfied: pytz>=2020.1 in /Library/Frameworks/Python.framework/Versions/3.10/lib/python3.10/site-packages (from pandas) (2022.1)\n",
      "Requirement already satisfied: tzdata>=2022.1 in /Library/Frameworks/Python.framework/Versions/3.10/lib/python3.10/site-packages (from pandas) (2022.1)\n",
      "Requirement already satisfied: six>=1.5 in /Library/Frameworks/Python.framework/Versions/3.10/lib/python3.10/site-packages (from python-dateutil>=2.8.2->pandas) (1.16.0)\n",
      "\n",
      "\u001b[1m[\u001b[0m\u001b[34;49mnotice\u001b[0m\u001b[1;39;49m]\u001b[0m\u001b[39;49m A new release of pip is available: \u001b[0m\u001b[31;49m23.2.1\u001b[0m\u001b[39;49m -> \u001b[0m\u001b[32;49m24.3.1\u001b[0m\n",
      "\u001b[1m[\u001b[0m\u001b[34;49mnotice\u001b[0m\u001b[1;39;49m]\u001b[0m\u001b[39;49m To update, run: \u001b[0m\u001b[32;49mpython3.10 -m pip install --upgrade pip\u001b[0m\n",
      "Requirement already satisfied: numpy in /Library/Frameworks/Python.framework/Versions/3.10/lib/python3.10/site-packages (1.26.0)\n",
      "\n",
      "\u001b[1m[\u001b[0m\u001b[34;49mnotice\u001b[0m\u001b[1;39;49m]\u001b[0m\u001b[39;49m A new release of pip is available: \u001b[0m\u001b[31;49m23.2.1\u001b[0m\u001b[39;49m -> \u001b[0m\u001b[32;49m24.3.1\u001b[0m\n",
      "\u001b[1m[\u001b[0m\u001b[34;49mnotice\u001b[0m\u001b[1;39;49m]\u001b[0m\u001b[39;49m To update, run: \u001b[0m\u001b[32;49mpython3.10 -m pip install --upgrade pip\u001b[0m\n",
      "Requirement already satisfied: scipy in /Library/Frameworks/Python.framework/Versions/3.10/lib/python3.10/site-packages (1.11.3)\n",
      "Requirement already satisfied: numpy<1.28.0,>=1.21.6 in /Library/Frameworks/Python.framework/Versions/3.10/lib/python3.10/site-packages (from scipy) (1.26.0)\n",
      "\n",
      "\u001b[1m[\u001b[0m\u001b[34;49mnotice\u001b[0m\u001b[1;39;49m]\u001b[0m\u001b[39;49m A new release of pip is available: \u001b[0m\u001b[31;49m23.2.1\u001b[0m\u001b[39;49m -> \u001b[0m\u001b[32;49m24.3.1\u001b[0m\n",
      "\u001b[1m[\u001b[0m\u001b[34;49mnotice\u001b[0m\u001b[1;39;49m]\u001b[0m\u001b[39;49m To update, run: \u001b[0m\u001b[32;49mpython3.10 -m pip install --upgrade pip\u001b[0m\n"
     ]
    }
   ],
   "source": [
    "!pip3 install pandas\n",
    "!pip3 install numpy\n",
    "!pip3 install scipy"
   ]
  },
  {
   "cell_type": "code",
   "execution_count": 2,
   "metadata": {},
   "outputs": [],
   "source": [
    "import pandas as pd\n",
    "import numpy as np\n",
    "import scipy.stats as sps"
   ]
  },
  {
   "cell_type": "code",
   "execution_count": 3,
   "metadata": {},
   "outputs": [
    {
     "name": "stdout",
     "output_type": "stream",
     "text": [
      "          Fecha  Solicitudes\n",
      "0    2021-10-01         29.0\n",
      "1    2021-10-02         21.0\n",
      "2    2021-10-03         26.0\n",
      "3    2021-10-04         31.0\n",
      "4    2021-10-05         25.0\n",
      "..          ...          ...\n",
      "330  2022-08-27         42.0\n",
      "331  2022-08-28         68.0\n",
      "332  2022-08-29         61.0\n",
      "333  2022-08-30         49.0\n",
      "334  2022-08-31         67.0\n",
      "\n",
      "[335 rows x 2 columns]\n"
     ]
    }
   ],
   "source": [
    "data = pd.read_csv(\"datos/SolicitudesDiarias.csv\")\n",
    "print(data)"
   ]
  },
  {
   "cell_type": "code",
   "execution_count": 4,
   "metadata": {},
   "outputs": [
    {
     "name": "stdout",
     "output_type": "stream",
     "text": [
      "          Fecha  Solicitudes\n",
      "0    2021-10-01         29.0\n",
      "1    2021-10-02         21.0\n",
      "2    2021-10-03         26.0\n",
      "3    2021-10-04         31.0\n",
      "4    2021-10-05         25.0\n",
      "..          ...          ...\n",
      "118  2022-01-27         13.0\n",
      "119  2022-01-28          0.0\n",
      "120  2022-01-29         25.0\n",
      "121  2022-01-30         20.0\n",
      "122  2022-01-31         36.0\n",
      "\n",
      "[123 rows x 2 columns]\n",
      "          Fecha  Solicitudes\n",
      "123  2022-02-01         32.0\n",
      "124  2022-02-02         18.0\n",
      "125  2022-02-03         28.0\n",
      "126  2022-02-04         23.0\n",
      "127  2022-02-05         21.0\n",
      "..          ...          ...\n",
      "238  2022-05-27         23.0\n",
      "239  2022-05-28         20.0\n",
      "240  2022-05-29         32.0\n",
      "241  2022-05-30         14.0\n",
      "242  2022-05-31         24.0\n",
      "\n",
      "[120 rows x 2 columns]\n",
      "          Fecha  Solicitudes\n",
      "243  2022-06-01         79.0\n",
      "244  2022-06-02         59.0\n",
      "245  2022-06-03         52.0\n",
      "246  2022-06-04         49.0\n",
      "247  2022-06-05         66.0\n",
      "..          ...          ...\n",
      "330  2022-08-27         42.0\n",
      "331  2022-08-28         68.0\n",
      "332  2022-08-29         61.0\n",
      "333  2022-08-30         49.0\n",
      "334  2022-08-31         67.0\n",
      "\n",
      "[92 rows x 2 columns]\n"
     ]
    }
   ],
   "source": [
    "before_change = data[data['Fecha'] < '2022-02-01']\n",
    "after_first_change = data[(data['Fecha'] >= '2022-02-01') & (data['Fecha'] < '2022-06-01')]\n",
    "after_second_change = data[ data['Fecha'] >= '2022-06-01']\n",
    "print(before_change)\n",
    "print(after_first_change)\n",
    "print(after_second_change)"
   ]
  },
  {
   "cell_type": "code",
   "execution_count": 5,
   "metadata": {},
   "outputs": [],
   "source": [
    "def get_95_percent_intervals(dataset):\n",
    "    mu = np.mean(dataset['Solicitudes'])\n",
    "    std = np.std(dataset['Solicitudes'])\n",
    "    dist = sps.norm(loc=mu, scale=std)\n",
    "    dif = (1 - 0.95) / 2\n",
    "    intervalos_de_confianza = (dist.ppf(dif), dist.ppf(1 - dif))\n",
    "    return (mu, std,intervalos_de_confianza)"
   ]
  },
  {
   "cell_type": "code",
   "execution_count": 6,
   "metadata": {},
   "outputs": [
    {
     "name": "stdout",
     "output_type": "stream",
     "text": [
      "Antes de cambio:  (20.585365853658537, 7.946903911380847, (5.0097203987515915, 36.161011308565485))\n",
      "Después del primer cambio:  (23.5, 6.24099351065197, (11.267877491373945, 35.732122508626055))\n",
      "Después del segundo cambio:  (48.54347826086956, 14.878064568115224, (19.38300754770225, 77.70394897403688))\n"
     ]
    }
   ],
   "source": [
    "print(\"Antes de cambio: \", get_95_percent_intervals(before_change))\n",
    "print(\"Después del primer cambio: \", get_95_percent_intervals(after_first_change))\n",
    "print(\"Después del segundo cambio: \", get_95_percent_intervals(after_second_change))"
   ]
  },
  {
   "cell_type": "markdown",
   "metadata": {},
   "source": [
    "Podemos ver de los datos que el primer tuvo un incremento en la media y en los intervalos de confianza pero la diferencia es tan pequeña que uno podría decir que es un poco de variación en las solicitudes. Ya el segundo cambio si es mucho mas grande en las media y en los intervalos de confianza. Esto muestra que el segundo cambio si fue effectivo en incrementar las solicitudes."
   ]
  }
 ],
 "metadata": {
  "kernelspec": {
   "display_name": "Python 3",
   "language": "python",
   "name": "python3"
  },
  "language_info": {
   "codemirror_mode": {
    "name": "ipython",
    "version": 3
   },
   "file_extension": ".py",
   "mimetype": "text/x-python",
   "name": "python",
   "nbconvert_exporter": "python",
   "pygments_lexer": "ipython3",
   "version": "3.10.11"
  }
 },
 "nbformat": 4,
 "nbformat_minor": 2
}
