{
 "cells": [
  {
   "cell_type": "code",
   "execution_count": 2,
   "metadata": {},
   "outputs": [],
   "source": [
    "import numpy as np"
   ]
  },
  {
   "cell_type": "code",
   "execution_count": 13,
   "metadata": {},
   "outputs": [
    {
     "name": "stdout",
     "output_type": "stream",
     "text": [
      "Tamaño: 100\n",
      "p real: 0.0\n",
      "p = Y / n 0.0\n",
      "p = (Y + 1) / (n + 2) 0.000980392156862745\n",
      "p real: 0.025\n",
      "p = Y / n 0.25\n",
      "p = (Y + 1) / (n + 2) 0.24607843137254903\n",
      "p real: 0.05\n",
      "p = Y / n 0.476\n",
      "p = (Y + 1) / (n + 2) 0.4676470588235294\n",
      "p real: 0.075\n",
      "p = Y / n 0.761\n",
      "p = (Y + 1) / (n + 2) 0.7470588235294118\n",
      "p real: 0.1\n",
      "p = Y / n 1.0\n",
      "p = (Y + 1) / (n + 2) 0.9813725490196079\n",
      "Tamaño: 1000\n",
      "p real: 0.0\n",
      "p = Y / n 0.0\n",
      "p = (Y + 1) / (n + 2) 9.98003992015968e-05\n",
      "p real: 0.025\n",
      "p = Y / n 0.2551\n",
      "p = (Y + 1) / (n + 2) 0.254690618762475\n",
      "p real: 0.05\n",
      "p = Y / n 0.49870000000000003\n",
      "p = (Y + 1) / (n + 2) 0.4978043912175648\n",
      "p real: 0.075\n",
      "p = Y / n 0.7535000000000001\n",
      "p = (Y + 1) / (n + 2) 0.7520958083832335\n",
      "p real: 0.1\n",
      "p = Y / n 1.0\n",
      "p = (Y + 1) / (n + 2) 0.9981037924151697\n",
      "Tamaño: 10000\n",
      "p real: 0.0\n",
      "p = Y / n 0.0\n",
      "p = (Y + 1) / (n + 2) 9.998000399920016e-06\n",
      "p real: 0.025\n",
      "p = Y / n 0.24759000000000003\n",
      "p = (Y + 1) / (n + 2) 0.2475504899020196\n",
      "p real: 0.05\n",
      "p = Y / n 0.50017\n",
      "p = (Y + 1) / (n + 2) 0.5000799840031994\n",
      "p real: 0.075\n",
      "p = Y / n 0.7492099999999999\n",
      "p = (Y + 1) / (n + 2) 0.7490701859628074\n",
      "p real: 0.1\n",
      "p = Y / n 1.0\n",
      "p = (Y + 1) / (n + 2) 0.9998100379924015\n"
     ]
    }
   ],
   "source": [
    "n = 10\n",
    "ps = [0, 0.25, 0.5, 0.75, 1.0]\n",
    "sizes = [100, 1000, 10000]\n",
    "\n",
    "for size in sizes:\n",
    "    print(\"Tamaño:\", size)\n",
    "    for p in ps:\n",
    "        X = np.random.binomial(n, p, size)\n",
    "        p1 = sum(X) / size\n",
    "        p2 = (sum(X) + 1) / (size + 2)\n",
    "        print(\"p real:\", p / 10)\n",
    "        print(\"p = Y / n\", p1 / 10)\n",
    "        print(\"p = (Y + 1) / (n + 2)\", p2 / 10)"
   ]
  },
  {
   "cell_type": "markdown",
   "metadata": {},
   "source": [
    "Ahi simule para diferentes valores de p y como se puede ver de los resultados los dos valores tienen un sesgo menor. El que tiene mas sesgo es p2 porque los valores dan un poco mas de error del valor real. La primera asintoticamente se aproxima al valor como podemos ver de las simulaciones"
   ]
  }
 ],
 "metadata": {
  "kernelspec": {
   "display_name": "Python 3",
   "language": "python",
   "name": "python3"
  },
  "language_info": {
   "codemirror_mode": {
    "name": "ipython",
    "version": 3
   },
   "file_extension": ".py",
   "mimetype": "text/x-python",
   "name": "python",
   "nbconvert_exporter": "python",
   "pygments_lexer": "ipython3",
   "version": "3.10.11"
  }
 },
 "nbformat": 4,
 "nbformat_minor": 2
}
