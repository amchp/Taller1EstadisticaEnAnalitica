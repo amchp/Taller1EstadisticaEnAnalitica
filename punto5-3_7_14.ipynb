{
 "cells": [
  {
   "cell_type": "code",
   "execution_count": null,
   "metadata": {},
   "outputs": [
    {
     "name": "stdout",
     "output_type": "stream",
     "text": [
      "Collecting statsmodels\n",
      "  Obtaining dependency information for statsmodels from https://files.pythonhosted.org/packages/ba/a5/2f09ab918296e534ea5d132e90efac51ae12ff15992d77539bbfca1158fa/statsmodels-0.14.4-cp310-cp310-macosx_11_0_arm64.whl.metadata\n",
      "  Using cached statsmodels-0.14.4-cp310-cp310-macosx_11_0_arm64.whl.metadata (9.2 kB)\n",
      "Requirement already satisfied: numpy<3,>=1.22.3 in /Library/Frameworks/Python.framework/Versions/3.10/lib/python3.10/site-packages (from statsmodels) (1.26.0)\n",
      "Requirement already satisfied: scipy!=1.9.2,>=1.8 in /Library/Frameworks/Python.framework/Versions/3.10/lib/python3.10/site-packages (from statsmodels) (1.11.3)\n",
      "Requirement already satisfied: pandas!=2.1.0,>=1.4 in /Library/Frameworks/Python.framework/Versions/3.10/lib/python3.10/site-packages (from statsmodels) (2.1.3)\n",
      "Collecting patsy>=0.5.6 (from statsmodels)\n",
      "  Obtaining dependency information for patsy>=0.5.6 from https://files.pythonhosted.org/packages/43/f3/1d311a09c34f14f5973bb0bb0dc3a6e007e1eda90b5492d082689936ca51/patsy-0.5.6-py2.py3-none-any.whl.metadata\n",
      "  Using cached patsy-0.5.6-py2.py3-none-any.whl.metadata (3.5 kB)\n",
      "Requirement already satisfied: packaging>=21.3 in /Library/Frameworks/Python.framework/Versions/3.10/lib/python3.10/site-packages (from statsmodels) (23.1)\n",
      "Requirement already satisfied: python-dateutil>=2.8.2 in /Users/alejandromcewenwork/Library/Python/3.10/lib/python/site-packages (from pandas!=2.1.0,>=1.4->statsmodels) (2.9.0.post0)\n",
      "Requirement already satisfied: pytz>=2020.1 in /Library/Frameworks/Python.framework/Versions/3.10/lib/python3.10/site-packages (from pandas!=2.1.0,>=1.4->statsmodels) (2022.1)\n",
      "Requirement already satisfied: tzdata>=2022.1 in /Library/Frameworks/Python.framework/Versions/3.10/lib/python3.10/site-packages (from pandas!=2.1.0,>=1.4->statsmodels) (2022.1)\n",
      "Requirement already satisfied: six in /Library/Frameworks/Python.framework/Versions/3.10/lib/python3.10/site-packages (from patsy>=0.5.6->statsmodels) (1.16.0)\n",
      "Using cached statsmodels-0.14.4-cp310-cp310-macosx_11_0_arm64.whl (9.9 MB)\n",
      "Using cached patsy-0.5.6-py2.py3-none-any.whl (233 kB)\n",
      "Installing collected packages: patsy, statsmodels\n",
      "Successfully installed patsy-0.5.6 statsmodels-0.14.4\n",
      "\n",
      "\u001b[1m[\u001b[0m\u001b[34;49mnotice\u001b[0m\u001b[1;39;49m]\u001b[0m\u001b[39;49m A new release of pip is available: \u001b[0m\u001b[31;49m23.2.1\u001b[0m\u001b[39;49m -> \u001b[0m\u001b[32;49m24.3.1\u001b[0m\n",
      "\u001b[1m[\u001b[0m\u001b[34;49mnotice\u001b[0m\u001b[1;39;49m]\u001b[0m\u001b[39;49m To update, run: \u001b[0m\u001b[32;49mpython3.10 -m pip install --upgrade pip\u001b[0m\n"
     ]
    }
   ],
   "source": [
    "!pip3 install pandas\n",
    "!pip3 install numpy\n",
    "!pip3 install scipy\n",
    "!pip3 install statsmodels\n",
    "!pip3 install matplotlib"
   ]
  },
  {
   "cell_type": "code",
   "execution_count": 24,
   "metadata": {},
   "outputs": [],
   "source": [
    "import numpy as np\n",
    "import statsmodels.api as sm\n",
    "import pandas as pd\n",
    "import matplotlib.pyplot as plt"
   ]
  },
  {
   "cell_type": "code",
   "execution_count": 11,
   "metadata": {},
   "outputs": [],
   "source": [
    "rng = np.random.default_rng (10)\n",
    "x1 = rng.uniform(0, 1, size =100)\n",
    "x2 = 0.5 * x1 + rng.normal(size =100) / 10\n",
    "y = 2 + 2 * x1 + 0.3 * x2 + rng.normal(size =100)"
   ]
  },
  {
   "cell_type": "markdown",
   "metadata": {},
   "source": [
    "# B"
   ]
  },
  {
   "cell_type": "code",
   "execution_count": 27,
   "metadata": {},
   "outputs": [
    {
     "name": "stdout",
     "output_type": "stream",
     "text": [
      "Correletaion 0.772324497691354\n"
     ]
    },
    {
     "data": {
      "image/png": "[encoded data removed]",
      "text/plain": [
       "<Figure size 800x600 with 1 Axes>"
      ]
     },
     "metadata": {},
     "output_type": "display_data"
    }
   ],
   "source": [
    "data = pd.DataFrame(X, columns=['x1', 'x2'])\n",
    "correlation = data['x1'].corr(data['x2'])\n",
    "print(\"Correletaion\", correlation)\n",
    "plt.figure(figsize=(8, 6))\n",
    "plt.scatter(x1, x2)\n",
    "plt.title(f'Scatterplot of x1 vs x2 (Correlation: {correlation:.2f})')\n",
    "plt.xlabel('x1')\n",
    "plt.ylabel('x2')\n",
    "plt.show()"
   ]
  },
  {
   "cell_type": "markdown",
   "metadata": {},
   "source": [
    "# C"
   ]
  },
  {
   "cell_type": "code",
   "execution_count": 28,
   "metadata": {},
   "outputs": [
    {
     "name": "stdout",
     "output_type": "stream",
     "text": [
      "                                 OLS Regression Results                                \n",
      "=======================================================================================\n",
      "Dep. Variable:                      y   R-squared (uncentered):                   0.831\n",
      "Model:                            OLS   Adj. R-squared (uncentered):              0.828\n",
      "Method:                 Least Squares   F-statistic:                              241.2\n",
      "Date:                Thu, 07 Nov 2024   Prob (F-statistic):                    1.40e-38\n",
      "Time:                        15:40:50   Log-Likelihood:                         -167.66\n",
      "No. Observations:                 100   AIC:                                      339.3\n",
      "Df Residuals:                      98   BIC:                                      344.5\n",
      "Df Model:                           2                                                  \n",
      "Covariance Type:            nonrobust                                                  \n",
      "==============================================================================\n",
      "                 coef    std err          t      P>|t|      [0.025      0.975]\n",
      "------------------------------------------------------------------------------\n",
      "x1             5.0371      0.590      8.535      0.000       3.866       6.208\n",
      "x2             0.1133      1.192      0.095      0.924      -2.252       2.479\n",
      "==============================================================================\n",
      "Omnibus:                        2.680   Durbin-Watson:                   1.962\n",
      "Prob(Omnibus):                  0.262   Jarque-Bera (JB):                2.138\n",
      "Skew:                           0.342   Prob(JB):                        0.343\n",
      "Kurtosis:                       3.214   Cond. No.                         6.25\n",
      "==============================================================================\n",
      "\n",
      "Notes:\n",
      "[1] R² is computed without centering (uncentered) since the model does not contain a constant.\n",
      "[2] Standard Errors assume that the covariance matrix of the errors is correctly specified.\n"
     ]
    }
   ],
   "source": [
    "X = np.column_stack((x1, x2))\n",
    "model = sm.OLS(y, X)\n",
    "results = model.fit()\n",
    "print(results.summary())"
   ]
  },
  {
   "cell_type": "markdown",
   "metadata": {},
   "source": [
    "# D"
   ]
  },
  {
   "cell_type": "code",
   "execution_count": 29,
   "metadata": {},
   "outputs": [
    {
     "name": "stdout",
     "output_type": "stream",
     "text": [
      "                                 OLS Regression Results                                \n",
      "=======================================================================================\n",
      "Dep. Variable:                      y   R-squared (uncentered):                   0.831\n",
      "Model:                            OLS   Adj. R-squared (uncentered):              0.829\n",
      "Method:                 Least Squares   F-statistic:                              487.3\n",
      "Date:                Thu, 07 Nov 2024   Prob (F-statistic):                    5.07e-40\n",
      "Time:                        15:46:02   Log-Likelihood:                         -167.67\n",
      "No. Observations:                 100   AIC:                                      337.3\n",
      "Df Residuals:                      99   BIC:                                      339.9\n",
      "Df Model:                           1                                                  \n",
      "Covariance Type:            nonrobust                                                  \n",
      "==============================================================================\n",
      "                 coef    std err          t      P>|t|      [0.025      0.975]\n",
      "------------------------------------------------------------------------------\n",
      "x1             5.0887      0.231     22.075      0.000       4.631       5.546\n",
      "==============================================================================\n",
      "Omnibus:                        2.813   Durbin-Watson:                   1.962\n",
      "Prob(Omnibus):                  0.245   Jarque-Bera (JB):                2.256\n",
      "Skew:                           0.350   Prob(JB):                        0.324\n",
      "Kurtosis:                       3.226   Cond. No.                         1.00\n",
      "==============================================================================\n",
      "\n",
      "Notes:\n",
      "[1] R² is computed without centering (uncentered) since the model does not contain a constant.\n",
      "[2] Standard Errors assume that the covariance matrix of the errors is correctly specified.\n"
     ]
    }
   ],
   "source": [
    "X = x1\n",
    "model = sm.OLS(y, X)\n",
    "results = model.fit()\n",
    "print(results.summary())"
   ]
  },
  {
   "cell_type": "markdown",
   "metadata": {},
   "source": [
    "# E"
   ]
  },
  {
   "cell_type": "code",
   "execution_count": 33,
   "metadata": {},
   "outputs": [
    {
     "name": "stdout",
     "output_type": "stream",
     "text": [
      "                                 OLS Regression Results                                \n",
      "=======================================================================================\n",
      "Dep. Variable:                      y   R-squared (uncentered):                   0.706\n",
      "Model:                            OLS   Adj. R-squared (uncentered):              0.703\n",
      "Method:                 Least Squares   F-statistic:                              237.3\n",
      "Date:                Thu, 07 Nov 2024   Prob (F-statistic):                    4.85e-28\n",
      "Time:                        15:46:45   Log-Likelihood:                         -195.45\n",
      "No. Observations:                 100   AIC:                                      392.9\n",
      "Df Residuals:                      99   BIC:                                      395.5\n",
      "Df Model:                           1                                                  \n",
      "Covariance Type:            nonrobust                                                  \n",
      "==============================================================================\n",
      "                 coef    std err          t      P>|t|      [0.025      0.975]\n",
      "------------------------------------------------------------------------------\n",
      "x1             9.4697      0.615     15.406      0.000       8.250      10.689\n",
      "==============================================================================\n",
      "Omnibus:                        2.362   Durbin-Watson:                   1.549\n",
      "Prob(Omnibus):                  0.307   Jarque-Bera (JB):                2.362\n",
      "Skew:                          -0.329   Prob(JB):                        0.307\n",
      "Kurtosis:                       2.635   Cond. No.                         1.00\n",
      "==============================================================================\n",
      "\n",
      "Notes:\n",
      "[1] R² is computed without centering (uncentered) since the model does not contain a constant.\n",
      "[2] Standard Errors assume that the covariance matrix of the errors is correctly specified.\n"
     ]
    }
   ],
   "source": [
    "X = x2\n",
    "model = sm.OLS(y, X)\n",
    "results = model.fit()\n",
    "print(results.summary())"
   ]
  },
  {
   "cell_type": "markdown",
   "metadata": {},
   "source": [
    "# G"
   ]
  },
  {
   "cell_type": "code",
   "execution_count": 34,
   "metadata": {},
   "outputs": [],
   "source": [
    "x1 = np.concatenate ([x1 , [0.1]])\n",
    "x2 = np.concatenate ([x2 , [0.8]])\n",
    "y = np.concatenate ([y, [6]])"
   ]
  },
  {
   "cell_type": "code",
   "execution_count": 35,
   "metadata": {},
   "outputs": [
    {
     "name": "stdout",
     "output_type": "stream",
     "text": [
      "                                 OLS Regression Results                                \n",
      "=======================================================================================\n",
      "Dep. Variable:                      y   R-squared (uncentered):                   0.818\n",
      "Model:                            OLS   Adj. R-squared (uncentered):              0.814\n",
      "Method:                 Least Squares   F-statistic:                              222.1\n",
      "Date:                Thu, 07 Nov 2024   Prob (F-statistic):                    2.51e-37\n",
      "Time:                        15:58:21   Log-Likelihood:                         -174.49\n",
      "No. Observations:                 101   AIC:                                      353.0\n",
      "Df Residuals:                      99   BIC:                                      358.2\n",
      "Df Model:                           2                                                  \n",
      "Covariance Type:            nonrobust                                                  \n",
      "==============================================================================\n",
      "                 coef    std err          t      P>|t|      [0.025      0.975]\n",
      "------------------------------------------------------------------------------\n",
      "x1             4.0006      0.532      7.518      0.000       2.945       5.056\n",
      "x2             2.4147      1.033      2.337      0.021       0.364       4.465\n",
      "==============================================================================\n",
      "Omnibus:                        0.914   Durbin-Watson:                   1.829\n",
      "Prob(Omnibus):                  0.633   Jarque-Bera (JB):                0.727\n",
      "Skew:                           0.208   Prob(JB):                        0.695\n",
      "Kurtosis:                       3.002   Cond. No.                         5.17\n",
      "==============================================================================\n",
      "\n",
      "Notes:\n",
      "[1] R² is computed without centering (uncentered) since the model does not contain a constant.\n",
      "[2] Standard Errors assume that the covariance matrix of the errors is correctly specified.\n"
     ]
    }
   ],
   "source": [
    "X = np.column_stack((x1, x2))\n",
    "model = sm.OLS(y, X)\n",
    "results = model.fit()\n",
    "print(results.summary())"
   ]
  },
  {
   "cell_type": "code",
   "execution_count": 36,
   "metadata": {},
   "outputs": [
    {
     "name": "stdout",
     "output_type": "stream",
     "text": [
      "                                 OLS Regression Results                                \n",
      "=======================================================================================\n",
      "Dep. Variable:                      y   R-squared (uncentered):                   0.808\n",
      "Model:                            OLS   Adj. R-squared (uncentered):              0.806\n",
      "Method:                 Least Squares   F-statistic:                              420.1\n",
      "Date:                Thu, 07 Nov 2024   Prob (F-statistic):                    1.39e-37\n",
      "Time:                        15:58:33   Log-Likelihood:                         -177.20\n",
      "No. Observations:                 101   AIC:                                      356.4\n",
      "Df Residuals:                     100   BIC:                                      359.0\n",
      "Df Model:                           1                                                  \n",
      "Covariance Type:            nonrobust                                                  \n",
      "==============================================================================\n",
      "                 coef    std err          t      P>|t|      [0.025      0.975]\n",
      "------------------------------------------------------------------------------\n",
      "x1             5.1059      0.249     20.496      0.000       4.612       5.600\n",
      "==============================================================================\n",
      "Omnibus:                       14.139   Durbin-Watson:                   1.677\n",
      "Prob(Omnibus):                  0.001   Jarque-Bera (JB):               17.693\n",
      "Skew:                           0.730   Prob(JB):                     0.000144\n",
      "Kurtosis:                       4.440   Cond. No.                         1.00\n",
      "==============================================================================\n",
      "\n",
      "Notes:\n",
      "[1] R² is computed without centering (uncentered) since the model does not contain a constant.\n",
      "[2] Standard Errors assume that the covariance matrix of the errors is correctly specified.\n"
     ]
    }
   ],
   "source": [
    "X = x1\n",
    "model = sm.OLS(y, X)\n",
    "results = model.fit()\n",
    "print(results.summary())"
   ]
  },
  {
   "cell_type": "code",
   "execution_count": 37,
   "metadata": {},
   "outputs": [
    {
     "name": "stdout",
     "output_type": "stream",
     "text": [
      "                                 OLS Regression Results                                \n",
      "=======================================================================================\n",
      "Dep. Variable:                      y   R-squared (uncentered):                   0.714\n",
      "Model:                            OLS   Adj. R-squared (uncentered):              0.711\n",
      "Method:                 Least Squares   F-statistic:                              249.3\n",
      "Date:                Thu, 07 Nov 2024   Prob (F-statistic):                    6.48e-29\n",
      "Time:                        15:58:37   Log-Likelihood:                         -197.30\n",
      "No. Observations:                 101   AIC:                                      396.6\n",
      "Df Residuals:                     100   BIC:                                      399.2\n",
      "Df Model:                           1                                                  \n",
      "Covariance Type:            nonrobust                                                  \n",
      "==============================================================================\n",
      "                 coef    std err          t      P>|t|      [0.025      0.975]\n",
      "------------------------------------------------------------------------------\n",
      "x1             9.3204      0.590     15.790      0.000       8.149      10.492\n",
      "==============================================================================\n",
      "Omnibus:                        2.496   Durbin-Watson:                   1.593\n",
      "Prob(Omnibus):                  0.287   Jarque-Bera (JB):                2.393\n",
      "Skew:                          -0.307   Prob(JB):                        0.302\n",
      "Kurtosis:                       2.561   Cond. No.                         1.00\n",
      "==============================================================================\n",
      "\n",
      "Notes:\n",
      "[1] R² is computed without centering (uncentered) since the model does not contain a constant.\n",
      "[2] Standard Errors assume that the covariance matrix of the errors is correctly specified.\n"
     ]
    }
   ],
   "source": [
    "X = x2\n",
    "model = sm.OLS(y, X)\n",
    "results = model.fit()\n",
    "print(results.summary())"
   ]
  }
 ],
 "metadata": {
  "kernelspec": {
   "display_name": "Python 3",
   "language": "python",
   "name": "python3"
  },
  "language_info": {
   "codemirror_mode": {
    "name": "ipython",
    "version": 3
   },
   "file_extension": ".py",
   "mimetype": "text/x-python",
   "name": "python",
   "nbconvert_exporter": "python",
   "pygments_lexer": "ipython3",
   "version": "3.10.11"
  }
 },
 "nbformat": 4,
 "nbformat_minor": 2
}
